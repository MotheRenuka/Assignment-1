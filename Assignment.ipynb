{
  "nbformat": 4,
  "nbformat_minor": 0,
  "metadata": {
    "colab": {
      "name": "Assignment.ipynb",
      "provenance": [],
      "collapsed_sections": [],
      "authorship_tag": "ABX9TyOfLzJMjgtEQHDKze3cB1Og",
      "include_colab_link": true
    },
    "kernelspec": {
      "name": "python3",
      "display_name": "Python 3"
    },
    "language_info": {
      "name": "python"
    }
  },
  "cells": [
    {
      "cell_type": "markdown",
      "metadata": {
        "id": "view-in-github",
        "colab_type": "text"
      },
      "source": [
        "<a href=\"https://colab.research.google.com/github/MotheRenuka/Assignment-1/blob/main/Assignment.ipynb\" target=\"_parent\"><img src=\"https://colab.research.google.com/assets/colab-badge.svg\" alt=\"Open In Colab\"/></a>"
      ]
    },
    {
      "cell_type": "code",
      "metadata": {
        "id": "pa1DdGBx09j9"
      },
      "source": [
        "List1 = [\"cadbury\",\"nestle\",\"amul\",\"hersheys\"]"
      ],
      "execution_count": null,
      "outputs": []
    },
    {
      "cell_type": "code",
      "metadata": {
        "colab": {
          "base_uri": "https://localhost:8080/"
        },
        "id": "_FcZfagK1J3i",
        "outputId": "da82b565-4f9a-4c79-9899-b69b8778f01b"
      },
      "source": [
        "List1"
      ],
      "execution_count": null,
      "outputs": [
        {
          "output_type": "execute_result",
          "data": {
            "text/plain": [
              "['cadbury', 'nestle', 'amul', 'hersheys']"
            ]
          },
          "metadata": {
            "tags": []
          },
          "execution_count": 10
        }
      ]
    },
    {
      "cell_type": "code",
      "metadata": {
        "id": "jq7GnAKc1MUZ"
      },
      "source": [
        "List2=[\"Lee Cooper\",\"oxemberg\",\"nestle\",\"cadbury\"]"
      ],
      "execution_count": null,
      "outputs": []
    },
    {
      "cell_type": "code",
      "metadata": {
        "colab": {
          "base_uri": "https://localhost:8080/"
        },
        "id": "zibbP5tQ2o_6",
        "outputId": "fce9184b-aa13-44bc-d35d-7d37906ac71a"
      },
      "source": [
        "a_list=set(List1)\n",
        "b_list=set(List2)\n",
        "print(a_list.intersection(b_list))"
      ],
      "execution_count": null,
      "outputs": [
        {
          "output_type": "stream",
          "text": [
            "{'cadbury', 'nestle'}\n"
          ],
          "name": "stdout"
        }
      ]
    },
    {
      "cell_type": "code",
      "metadata": {
        "colab": {
          "base_uri": "https://localhost:8080/"
        },
        "id": "leHlNEG828RD",
        "outputId": "38952a02-a59f-48b6-d2c9-46c03e7c4b6e"
      },
      "source": [
        "x=range(22,42,2)\n",
        "for n in x:\n",
        "  print(n)"
      ],
      "execution_count": null,
      "outputs": [
        {
          "output_type": "stream",
          "text": [
            "22\n",
            "24\n",
            "26\n",
            "28\n",
            "30\n",
            "32\n",
            "34\n",
            "36\n",
            "38\n",
            "40\n"
          ],
          "name": "stdout"
        }
      ]
    }
  ]
}